{
  "cells": [
    {
      "attachments": {},
      "cell_type": "markdown",
      "metadata": {
        "id": "fxYd72KmVn8x"
      },
      "source": [
        "# Ejercicio de programación Regresión Lineal Multiple"
      ]
    },
    {
      "attachments": {},
      "cell_type": "markdown",
      "metadata": {},
      "source": [
        "# Ejercicio de programación Regresión Lineal Multiple"
      ]
    },
    {
      "cell_type": "code",
      "execution_count": 4,
      "metadata": {
        "id": "-NQwq_hsVn80"
      },
      "outputs": [],
      "source": [
        "# utilizado para manejos de directorios y rutas\n",
        "import os\n",
        "\n",
        "# Computacion vectorial y cientifica para python\n",
        "import numpy as np\n",
        "\n",
        "# Librerias para graficación (trazado de gráficos)\n",
        "from matplotlib import pyplot \n",
        "from mpl_toolkits.mplot3d import Axes3D  # Necesario para graficar superficies 3D\n",
        "\n",
        "import pandas as pd\n",
        "\n",
        "# llama a matplotlib a embeber graficas dentro de los cuadernillos\n",
        "%matplotlib inline\n",
        "\n"
      ]
    },
    {
      "attachments": {},
      "cell_type": "markdown",
      "metadata": {
        "id": "dl4y9LL2Vn81"
      },
      "source": [
        "## 2 Regresión lineal con multiples variables\n",
        "\n",
        "Se implementa la regresion lineal multivariable para predecir el precio de las casas. El archivo `Datasets/ex1data2.txt` contiene un conjunto de entrenamiento de precios de casas en Portland, Oregon. La primera columna es el tamaño de la casa en metros cuadrados, la segunda columna es el numero de cuartos, y la tercera columna es el precio de la casa. \n",
        "\n",
        "<a id=\"section4\"></a>\n",
        "### 2.1 Normalización de caracteristicas\n",
        "\n",
        "Al visualizar los datos se puede observar que las caracteristicas tienen diferentes magnitudes, por lo cual se debe transformar cada valor en una escala de valores similares, esto con el fin de que el descenso por el gradiente pueda converger mas rapidamente."
      ]
    },
    {
      "cell_type": "code",
      "execution_count": 5,
      "metadata": {
        "colab": {
          "base_uri": "https://localhost:8080/"
        },
        "id": "IzvXlXHMVn81",
        "outputId": "9b666da7-d88c-4ba7-a1ec-8d54301a5719"
      },
      "outputs": [
        {
          "name": "stdout",
          "output_type": "stream",
          "text": [
            "  X[:,0] X[:, 1] X[:, 2] X[:, 3] X[:, 4] X[:, 5] X[:, 6] X[:, 7]   X[:, 8]\n",
            "---------------------------\n",
            "       6     148      72      35       0      34       1      50         1\n",
            "       1      85      66      29       0      27       0      31         0\n",
            "       8     183      64       0       0      23       1      32         1\n",
            "       1      89      66      23      94      28       0      21         0\n",
            "       0     137      40      35     168      43       2      33         1\n",
            "       5     116      74       0       0      26       0      30         0\n",
            "       3      78      50      32      88      31       0      26         1\n",
            "      10     115       0       0       0      35       0      29         0\n",
            "       2     197      70      45     543      30       0      53         1\n",
            "       8     125      96       0       0       0       0      54         1\n"
          ]
        }
      ],
      "source": [
        "# Cargar datos\n",
        "\n",
        "\n",
        "'''\n",
        "ESTUDIANTE: Victoria Avila Carlos Osmar\n",
        "CARRERA: Ingeniería en Ciencias de la Computación\n",
        "CU: 111-333\n",
        "\n",
        "INFORMACIÓN SOBRE EL CONJUNTO DE DATOS:\n",
        "El conjunto de datos contiene características y expectativas de vida de 193 países de 2000 a 2015.\n",
        "Columnas X\n",
        "x1 = Año\n",
        "x2 = Mortalidad infantil\n",
        "x3 = Mortalidad de menores de cinco años\n",
        "x4 = Mortalidad adulta\n",
        "x5 = Muerte por consumo de Alcohol\n",
        "x6 = Hepatitis B\n",
        "x7 = Sarampión\n",
        "x8 = IMC\n",
        "x9 = Polio\n",
        "x10 = Difteria\n",
        "x11 = VIH / SIDA\n",
        "\n",
        "Columna Y\n",
        "Y = Esperanza de vida\n",
        "\n",
        "'''\n",
        "# Total de tados en el dataset 2.864 rows.\n",
        "# 2.577 rows para entrenamiento (90%)\n",
        "# 287 rows para test (10%) (el test se realiza al final del notebook)\n",
        "\n",
        "#lee el los valores del archivo csv\n",
        "df = pd.read_csv('diabetes.csv')\n",
        "#Omite la parte de los encabezados\n",
        "data = df.values\n",
        "\n",
        "amount_rows = data.shape[0]\n",
        "# 90% de los datos para entrenamiento\n",
        "train_rows= int(round(amount_rows * 0.9))\n",
        "X = data[:train_rows, :8]\n",
        "y = data[:train_rows, 8]\n",
        "m = y.size\n",
        "\n",
        "# print(X[:,10])\n",
        "# imprimir algunos puntos de datos\n",
        "print('{:>8s}{:>8s}{:>8s}{:>8s}{:>8s}{:>8s}{:>8s}{:>8s}{:>10s}'.format('X[:,0]', 'X[:, 1]', 'X[:, 2]', 'X[:, 3]', 'X[:, 4]', 'X[:, 5]', 'X[:, 6]', 'X[:, 7]', 'X[:, 8]', 'X[:, 9]', 'X[:, 10]', 'y'))\n",
        "print('-'*27)\n",
        "for i in range(10):\n",
        "    print('{:8.0f}{:8.0f}{:>8.0f}{:>8.0f}{:>8.0f}{:>8.0f}{:>8.0f}{:>8.0f}{:10.0f}'.format(X[i, 0], X[i, 1], X[i, 2], X[i, 3], X[i, 4], X[i, 5], X[i, 6], X[i, 7],  y[i]))"
      ]
    },
    {
      "attachments": {},
      "cell_type": "markdown",
      "metadata": {
        "id": "FtXNyqmpXNf0"
      },
      "source": [
        "# New Section"
      ]
    },
    {
      "attachments": {},
      "cell_type": "markdown",
      "metadata": {
        "id": "pP-oF-Y8W3zp"
      },
      "source": [
        "## 2 Regresión lineal con multiples variables\n",
        "\n",
        "Se implementa la regresion lineal multivariable para predecir el precio de las casas. El archivo `Datasets/ex1data2.txt` contiene un conjunto de entrenamiento de precios de casas en Portland, Oregon. La primera columna es el tamaño de la casa en metros cuadrados, la segunda columna es el numero de cuartos, y la tercera columna es el precio de la casa. \n",
        "\n",
        "<a id=\"section4\"></a>\n",
        "### 2.1 Normalización de caracteristicas\n",
        "\n",
        "Al visualizar los datos se puede observar que las caracteristicas tienen diferentes magnitudes, por lo cual se debe transformar cada valor en una escala de valores similares, esto con el fin de que el descenso por el gradiente pueda converger mas rapidamente."
      ]
    },
    {
      "attachments": {},
      "cell_type": "markdown",
      "metadata": {
        "id": "Lr8JRNkyVn82"
      },
      "source": [
        "La desviación estándar es una forma de medir cuánta variación hay en el rango de valores de una característica en particular (la mayoría de los puntos caeran en un rango de ± 2 en relación a la desviaciones estándar de la media); esta es una alternativa a tomar el rango de valores (max-min). En `numpy`, se puede usar la función `std` para calcular la desviacion estandar. \n",
        "\n",
        "Por ejemplo, la caracteristica`X[:, 0]` contiene todos los valores de $x_1$ (tamaño de las casas) en el conjunto de entrenamiento, entonces `np.std(X[:, 0])` calcula la desviacion estandar de los tamaños de las casas.\n",
        "En el momento en que se llama a la función `featureNormalize`, la columna adicional de unos correspondiente a $ x_0 = 1 $ aún no se ha agregado a $ X $. \n",
        "\n",
        "<div class=\"alert alert-block alert-warning\">\n",
        "**Notas para la implementación:** Cuando se normalize una caracteristica, es importante almacenar los valores usados para la normalización - el valor de la media y el valor de la desviación estandar usado para los calculos. Despues de aprender los parametros del modelo, se deseara predecir los precios de casas que no se han visto antes. Dado un nuevo valor de x (area del living room y el numero de dormitorios), primero se debe normalizar x usando la media y la desviacion estandar que se empleo anteriormente en el conjunto de entrenamiento para entrenar el modelo.\n",
        "</div>\n",
        "<a id=\"featureNormalize\"></a>"
      ]
    },
    {
      "cell_type": "code",
      "execution_count": 6,
      "metadata": {
        "id": "dgT4rR9iVn82"
      },
      "outputs": [],
      "source": [
        "def  featureNormalize(X):\n",
        "    X_norm = X.copy()\n",
        "    mu = np.zeros(X.shape[1])\n",
        "    sigma = np.zeros(X.shape[1])\n",
        "\n",
        "    mu = np.mean(X, axis = 0)\n",
        "    sigma = np.std(X, axis = 0)\n",
        "    X_norm = (X - mu) / sigma\n",
        "    \n",
        "    return X_norm, mu, sigma"
      ]
    },
    {
      "cell_type": "code",
      "execution_count": 7,
      "metadata": {
        "colab": {
          "base_uri": "https://localhost:8080/"
        },
        "id": "MfiaMoWEVn82",
        "outputId": "ade60105-ce34-4819-e4bf-7625c9c1463c"
      },
      "outputs": [
        {
          "name": "stdout",
          "output_type": "stream",
          "text": [
            "[[  6.    148.     72.    ...  33.6     0.627  50.   ]\n",
            " [  1.     85.     66.    ...  26.6     0.351  31.   ]\n",
            " [  8.    183.     64.    ...  23.3     0.672  32.   ]\n",
            " ...\n",
            " [  1.    140.     74.    ...  24.1     0.828  23.   ]\n",
            " [  1.    144.     82.    ...  46.1     0.335  46.   ]\n",
            " [  8.    107.     80.    ...  24.6     0.856  34.   ]]\n",
            "Media calculada: [  3.81620839 120.44283647  68.85962373  20.45296671  79.50217077\n",
            "  31.86136035   0.4765398   33.14327062]\n",
            "Desviación estandar calculada: [  3.35667003  32.26640401  19.36792011  16.00213541 115.03306482\n",
            "   7.95099119   0.33778446  11.81054106]\n",
            "[[ 0.65058275  0.85405128  0.16214319 ...  0.21866955  0.44543258\n",
            "   1.4272614 ]\n",
            " [-0.83898875 -1.09844396 -0.14764744 ... -0.66172383 -0.37165652\n",
            "  -0.18147099]\n",
            " [ 1.24641135  1.93877085 -0.25091098 ... -1.07676642  0.57865363\n",
            "  -0.09680087]\n",
            " ...\n",
            " [-0.83898875  0.60611537  0.26540673 ... -0.97615004  1.0404866\n",
            "  -0.858832  ]\n",
            " [-0.83898875  0.73008333  0.67846089 ...  1.79080058 -0.41902401\n",
            "   1.0885809 ]\n",
            " [ 1.24641135 -0.41662022  0.57519735 ... -0.9132648   1.12337969\n",
            "   0.07253938]]\n"
          ]
        }
      ],
      "source": [
        "# llama featureNormalize con los datos cargados\n",
        "X_norm, mu, sigma = featureNormalize(X)\n",
        "\n",
        "print(X)\n",
        "print('Media calculada:', mu)\n",
        "print('Desviación estandar calculada:', sigma)\n",
        "print(X_norm)"
      ]
    },
    {
      "attachments": {},
      "cell_type": "markdown",
      "metadata": {
        "id": "pDbib1JVVn82"
      },
      "source": [
        "Despues de `featureNormalize` la funcion es provada, se añade el temino de interseccion a `X_norm`:"
      ]
    },
    {
      "cell_type": "code",
      "execution_count": 8,
      "metadata": {
        "id": "qXpGaaD0Vn83"
      },
      "outputs": [],
      "source": [
        "# Añade el termino de interseccion a X\n",
        "# (Columna de unos para X0)\n",
        "X = np.concatenate([np.ones((m, 1)), X_norm], axis=1)"
      ]
    },
    {
      "cell_type": "code",
      "execution_count": 9,
      "metadata": {
        "colab": {
          "base_uri": "https://localhost:8080/"
        },
        "id": "Pzz24OdaVn83",
        "outputId": "7910557f-c85a-4571-bdb5-1702324324f3"
      },
      "outputs": [
        {
          "name": "stdout",
          "output_type": "stream",
          "text": [
            "[[ 1.          0.65058275  0.85405128 ...  0.21866955  0.44543258\n",
            "   1.4272614 ]\n",
            " [ 1.         -0.83898875 -1.09844396 ... -0.66172383 -0.37165652\n",
            "  -0.18147099]\n",
            " [ 1.          1.24641135  1.93877085 ... -1.07676642  0.57865363\n",
            "  -0.09680087]\n",
            " ...\n",
            " [ 1.         -0.83898875  0.60611537 ... -0.97615004  1.0404866\n",
            "  -0.858832  ]\n",
            " [ 1.         -0.83898875  0.73008333 ...  1.79080058 -0.41902401\n",
            "   1.0885809 ]\n",
            " [ 1.          1.24641135 -0.41662022 ... -0.9132648   1.12337969\n",
            "   0.07253938]]\n"
          ]
        }
      ],
      "source": [
        "print(X)"
      ]
    },
    {
      "attachments": {},
      "cell_type": "markdown",
      "metadata": {
        "id": "V54HlIKAVn83"
      },
      "source": [
        "<a id=\"section5\"></a>\n",
        "### 2.2 Descenso por el gradiente\n",
        "\n",
        "En el ejemplo anterior se implemento el descenso por el gradiente para un problema de regresion univariable. La unica diferencia es que ahora existe una caracteristica adicional en la matriz $X$. La función de hipótesis y la regla de actualización del descenso del gradiente por lotes permanecen sin cambios.\n",
        "\n",
        "La implementacion de las funciones `computeCostMulti` y `gradientDescentMulti` son similares a la funcion de costo y función de descenso por el gradiente de la regresión lineal multiple es similar al de la regresion lineal multivariable. Es importante garantizar que el codigo soporte cualquier numero de caracteristicas y esten bien vectorizadas.\n",
        "\n",
        "Se puede utilizar `shape`, propiedad de los arrays `numpy`, para identificar cuantas caracteristicas estan consideradas en el dataset.\n",
        "\n",
        "<div class=\"alert alert-block alert-warning\">\n",
        "**Nota de implementación:** En el caso de multivariables, la función de costo puede se escrita considerando la forma vectorizada de la siguiente manera:\n",
        "\n",
        "$$ J(\\theta) = \\frac{1}{2m}(X\\theta - \\vec{y})^T(X\\theta - \\vec{y}) $$\n",
        "\n",
        "donde:\n",
        "\n",
        "$$ X = \\begin{pmatrix}\n",
        "          - (x^{(1)})^T - \\\\\n",
        "          - (x^{(2)})^T - \\\\\n",
        "          \\vdots \\\\\n",
        "          - (x^{(m)})^T - \\\\ \\\\\n",
        "        \\end{pmatrix} \\qquad \\mathbf{y} = \\begin{bmatrix} y^{(1)} \\\\ y^{(2)} \\\\ \\vdots \\\\ y^{(m)} \\\\\\end{bmatrix}$$\n",
        "\n",
        "La version vectorizada es eficiente cuando se trabaja con herramientas de calculo numericos computacional como `numpy`. \n",
        "</div>\n",
        "\n",
        "<a id=\"computeCostMulti\"></a>"
      ]
    },
    {
      "cell_type": "code",
      "execution_count": 10,
      "metadata": {
        "id": "R5xCTuCUVn83"
      },
      "outputs": [],
      "source": [
        "def computeCostMulti(X, y, theta):\n",
        "    # Inicializa algunos valores utiles\n",
        "    m = y.shape[0] # numero de ejemplos de entrenamiento\n",
        "    \n",
        "    J = 0\n",
        "    \n",
        "    h = np.dot(X, theta)\n",
        "    \n",
        "    J = (1/(2 * m)) * np.sum(np.square(np.dot(X, theta) - y))\n",
        "    \n",
        "    return J\n"
      ]
    },
    {
      "cell_type": "code",
      "execution_count": 11,
      "metadata": {
        "id": "1FbQyFHtVn83"
      },
      "outputs": [],
      "source": [
        "def gradientDescentMulti(X, y, theta, alpha, num_iters):\n",
        "    \n",
        "    # Inicializa algunos valores \n",
        "    m = y.shape[0] # numero de ejemplos de entrenamiento\n",
        "    \n",
        "    # realiza una copia de theta, el cual será acutalizada por el descenso por el gradiente\n",
        "    theta = theta.copy()\n",
        "    \n",
        "    J_history = []\n",
        "    \n",
        "    for i in range(num_iters):\n",
        "        theta = theta - (alpha / m) * (np.dot(X, theta) - y).dot(X)\n",
        "        J_history.append(computeCostMulti(X, y, theta))\n",
        "    \n",
        "    return theta, J_history"
      ]
    },
    {
      "attachments": {},
      "cell_type": "markdown",
      "metadata": {
        "id": "dJ2VxNfaVn83"
      },
      "source": [
        "#### 3.2.1 Seleccionando coheficientes de aprendizaje\n"
      ]
    },
    {
      "cell_type": "code",
      "execution_count": 13,
      "metadata": {
        "colab": {
          "base_uri": "https://localhost:8080/",
          "height": 486
        },
        "id": "K4gVCgsfVn84",
        "outputId": "e0b0bbbe-20ed-49fb-930d-70e354a4e2dd"
      },
      "outputs": [
        {
          "name": "stdout",
          "output_type": "stream",
          "text": [
            "theta calculado por el descenso por el gradiente: [ 0.34298119  0.07397938  0.18149309 -0.04681268  0.00379188 -0.01851614\n",
            "  0.11116127  0.05132864  0.0203234 ]\n",
            "Costo final del descenso por el gradiente: 0.079\n"
          ]
        },
        {
          "data": {
            "image/png": "[encoded data removed]",
            "text/plain": [
              "<Figure size 640x480 with 1 Axes>"
            ]
          },
          "metadata": {},
          "output_type": "display_data"
        }
      ],
      "source": [
        "# Elegir algun valor para alpha (probar varias alternativas)\n",
        "# Este es el learning rate más optimo para este dataset\n",
        "alpha = 0.03 \n",
        "# Este es el número de iteraciones más optimo para este dataset\n",
        "num_iters = 4000\n",
        "\n",
        "# inicializa theta y ejecuta el descenso por el gradiente\n",
        "theta = np.zeros(9)\n",
        "theta, J_history = gradientDescentMulti(X, y, theta, alpha, num_iters)\n",
        "\n",
        "# Grafica la convergencia del costo\n",
        "pyplot.plot(np.arange(len(J_history)), J_history, lw=2)\n",
        "pyplot.xlabel('Numero de iteraciones')\n",
        "pyplot.ylabel('Costo J')\n",
        "\n",
        "# Muestra los resultados del descenso por el gradiente\n",
        "#Los mejores valores para theta son: [68.81749418  0.10977902 -2.13952866 -1.74811408 -6.03021739  0.65771743\n",
        "#  -0.26873256  0.08156761 -0.22281182 -0.12047186  0.20767683  0.40529647]\n",
        "print('theta calculado por el descenso por el gradiente: {:s}'.format(str(theta)))\n",
        "\n",
        "# El mejor valor del costo llega a ser 1.059\n",
        "print('Costo final del descenso por el gradiente: {:0.3f}'.format(J_history[-1]))   \n",
        "\n",
        "\n",
        "\n",
        "\n",
        "# print('El precio predecido para una casa de 1650 sq-ft y 3 dormitorios (usando el descenso por el gradiente): ${:.0f}'.format(price))"
      ]
    },
    {
      "cell_type": "code",
      "execution_count": 16,
      "metadata": {
        "id": "5Bqbn4VtVn84"
      },
      "outputs": [],
      "source": [
        "# Pueba con el 10% que queda de elementos para la esperanza de vida como Y \n",
        "\n",
        "#lee el los valores del archivo csv\n",
        "df = pd.read_csv('diabetes.csv')\n",
        "#Omite la parte de los encabezados\n",
        "data = df.values\n",
        "\n",
        "amount_rows = data.shape[0]\n",
        "test_rows= int(round(amount_rows * 0.1))\n",
        "X = data[test_rows:, :8]\n",
        "Life_Expectancy_data= data[test_rows:, 8]\n",
        "\n",
        "X_norm, mu, sigma = featureNormalize(X)\n",
        "X_final = np.concatenate([np.ones((m, 1)), X_norm], axis=1)\n",
        "Life_Expectancy = np.dot(X_final, theta)  \n",
        "\n"
      ]
    },
    {
      "cell_type": "code",
      "execution_count": 17,
      "metadata": {
        "colab": {
          "base_uri": "https://localhost:8080/"
        },
        "id": "YiFRyR0DVn84",
        "outputId": "8cb0c7ec-163b-423d-e803-e3212fc13664"
      },
      "outputs": [
        {
          "name": "stdout",
          "output_type": "stream",
          "text": [
            "Ejemplo 1 - Predicción: 0.28551934116270555 - Valor real: 0.0\n",
            "Ejemplo 2 - Predicción: 0.6118827511367458 - Valor real: 1.0\n",
            "Ejemplo 3 - Predicción: 0.13090334214699934 - Valor real: 0.0\n",
            "Ejemplo 4 - Predicción: 0.14304113810760707 - Valor real: 0.0\n",
            "Ejemplo 5 - Predicción: -0.3279290455828569 - Valor real: 0.0\n",
            "Ejemplo 6 - Predicción: 0.19043764279132303 - Valor real: 0.0\n",
            "Ejemplo 7 - Predicción: 0.006696776353444896 - Valor real: 0.0\n",
            "Ejemplo 8 - Predicción: 0.5858991703528771 - Valor real: 1.0\n",
            "Ejemplo 9 - Predicción: 0.25486450114981607 - Valor real: 0.0\n",
            "Ejemplo 10 - Predicción: 0.5159843752068333 - Valor real: 0.0\n",
            "Ejemplo 11 - Predicción: 0.24645220807172302 - Valor real: 0.0\n",
            "Ejemplo 12 - Predicción: 0.7144841006361085 - Valor real: 1.0\n",
            "Ejemplo 13 - Predicción: 0.07330672545945076 - Valor real: 0.0\n",
            "Ejemplo 14 - Predicción: -0.15193555657838442 - Valor real: 0.0\n",
            "Ejemplo 15 - Predicción: 0.31342824542619346 - Valor real: 0.0\n",
            "Ejemplo 16 - Predicción: 0.36642715693176287 - Valor real: 0.0\n",
            "Ejemplo 17 - Predicción: 0.3221361192489848 - Valor real: 1.0\n",
            "Ejemplo 18 - Predicción: 0.31588542539286607 - Valor real: 0.0\n",
            "Ejemplo 19 - Predicción: 0.5004433404598599 - Valor real: 0.0\n",
            "Ejemplo 20 - Predicción: 0.09375526464371539 - Valor real: 0.0\n",
            "Ejemplo 21 - Predicción: -0.16409361805978326 - Valor real: 0.0\n",
            "Ejemplo 22 - Predicción: 0.20000290008812754 - Valor real: 0.0\n",
            "Ejemplo 23 - Predicción: 0.4489548735088094 - Valor real: 1.0\n",
            "Ejemplo 24 - Predicción: 0.7454174545826746 - Valor real: 1.0\n",
            "Ejemplo 25 - Predicción: 0.3348793794547043 - Valor real: 0.0\n",
            "Ejemplo 26 - Predicción: 0.03446656839872542 - Valor real: 0.0\n",
            "Ejemplo 27 - Predicción: -0.07289331062052914 - Valor real: 0.0\n",
            "Ejemplo 28 - Predicción: 0.2871055098888887 - Valor real: 0.0\n",
            "Ejemplo 29 - Predicción: 0.3172275983864943 - Valor real: 0.0\n",
            "Ejemplo 30 - Predicción: -0.17390102655642203 - Valor real: 0.0\n",
            "Ejemplo 31 - Predicción: 0.4416288441202296 - Valor real: 0.0\n",
            "Ejemplo 32 - Predicción: 0.1450073092544663 - Valor real: 0.0\n",
            "Ejemplo 33 - Predicción: 0.10591816098487253 - Valor real: 1.0\n",
            "Ejemplo 34 - Predicción: 0.5610778936833056 - Valor real: 1.0\n",
            "Ejemplo 35 - Predicción: 0.6460569775327458 - Valor real: 1.0\n",
            "Ejemplo 36 - Predicción: 0.01776497153113147 - Valor real: 0.0\n",
            "Ejemplo 37 - Predicción: 0.11705828798687334 - Valor real: 0.0\n",
            "Ejemplo 38 - Predicción: 0.6710854175175374 - Valor real: 1.0\n",
            "Ejemplo 39 - Predicción: 0.49233979002299955 - Valor real: 1.0\n",
            "Ejemplo 40 - Predicción: 0.3816583081718189 - Valor real: 1.0\n",
            "Ejemplo 41 - Predicción: 0.2225492997656441 - Valor real: 0.0\n",
            "Ejemplo 42 - Predicción: 0.16802366183630166 - Valor real: 0.0\n",
            "Ejemplo 43 - Predicción: 0.021349551467877124 - Valor real: 0.0\n",
            "Ejemplo 44 - Predicción: 0.8215906524745934 - Valor real: 1.0\n",
            "Ejemplo 45 - Predicción: 0.3478055468763042 - Valor real: 0.0\n",
            "Ejemplo 46 - Predicción: 0.2055203235063755 - Valor real: 0.0\n",
            "Ejemplo 47 - Predicción: 0.3574617728774507 - Valor real: 0.0\n",
            "Ejemplo 48 - Predicción: 0.17577414191336588 - Valor real: 1.0\n",
            "Ejemplo 49 - Predicción: 0.5125298782087734 - Valor real: 1.0\n",
            "Ejemplo 50 - Predicción: 0.4602626723621953 - Valor real: 0.0\n",
            "Ejemplo 51 - Predicción: 0.26120777680144497 - Valor real: 0.0\n",
            "Ejemplo 52 - Predicción: 0.23999694635742952 - Valor real: 1.0\n",
            "Ejemplo 53 - Predicción: 0.17332267391986173 - Valor real: 1.0\n",
            "Ejemplo 54 - Predicción: 0.5791672518809036 - Valor real: 1.0\n",
            "Ejemplo 55 - Predicción: 0.6264652863962137 - Valor real: 1.0\n",
            "Ejemplo 56 - Predicción: 0.6136401306719762 - Valor real: 1.0\n",
            "Ejemplo 57 - Predicción: 0.3264886195004003 - Valor real: 0.0\n",
            "Ejemplo 58 - Predicción: 0.025005007547088468 - Valor real: 0.0\n",
            "Ejemplo 59 - Predicción: 0.30089216175242006 - Valor real: 0.0\n",
            "Ejemplo 60 - Predicción: 0.12484664915930122 - Valor real: 0.0\n",
            "Ejemplo 61 - Predicción: 0.06295974418446068 - Valor real: 0.0\n",
            "Ejemplo 62 - Predicción: 0.3059343631343313 - Valor real: 0.0\n",
            "Ejemplo 63 - Predicción: 0.24527332960135592 - Valor real: 0.0\n",
            "Ejemplo 64 - Predicción: 0.2017698715764381 - Valor real: 0.0\n",
            "Ejemplo 65 - Predicción: 0.3552471611619651 - Valor real: 0.0\n",
            "Ejemplo 66 - Predicción: 0.23898828428416444 - Valor real: 0.0\n",
            "Ejemplo 67 - Predicción: 0.41206038024888664 - Valor real: 1.0\n",
            "Ejemplo 68 - Predicción: 0.48187069067793614 - Valor real: 0.0\n",
            "Ejemplo 69 - Predicción: -0.31585482524272857 - Valor real: 0.0\n",
            "Ejemplo 70 - Predicción: 0.04663883718167377 - Valor real: 0.0\n",
            "Ejemplo 71 - Predicción: 0.35515308098619003 - Valor real: 0.0\n",
            "Ejemplo 72 - Predicción: 0.5463380338531338 - Valor real: 0.0\n",
            "Ejemplo 73 - Predicción: -0.012502392952980768 - Valor real: 0.0\n",
            "Ejemplo 74 - Predicción: 0.3937371172681181 - Valor real: 0.0\n",
            "Ejemplo 75 - Predicción: 0.18165363790300568 - Valor real: 0.0\n",
            "Ejemplo 76 - Predicción: 0.7720002743681947 - Valor real: 1.0\n",
            "Ejemplo 77 - Predicción: 0.5141193912405724 - Valor real: 0.0\n"
          ]
        }
      ],
      "source": [
        "# impresion de los datos predecidos y los reales para su comparación\n",
        "for i in range(test_rows):\n",
        "    print(\"Ejemplo\", i+1, \"- Predicción:\", Life_Expectancy[i], \"- Valor real:\", Life_Expectancy_data[i])\n"
      ]
    },
    {
      "attachments": {},
      "cell_type": "markdown",
      "metadata": {
        "id": "Tq1EPGUHVn84"
      },
      "source": [
        "<a id=\"section7\"></a>\n",
        "### 2.3 Ecuacion de la Normal\n",
        "\n",
        "Una manera de calcular rapidamente el modelo de una regresion lineal es:\n",
        "\n",
        "$$ \\theta = \\left( X^T X\\right)^{-1} X^T\\vec{y}$$\n",
        "\n",
        "Utilizando esta formula no requiere que se escale ninguna caracteristica, y se obtendra una solucion exacta con un solo calculo: no hay “bucles de convergencia” como en el descenso por el gradiente. \n",
        "\n",
        "Primero se recargan los datos para garantizar que las variables no esten modificadas. Recordar que no es necesario escalar las caracteristicas, se debe agregar la columna de unos a la matriz $X$ para tener el termino de intersección($\\theta_0$). "
      ]
    },
    {
      "cell_type": "code",
      "execution_count": 18,
      "metadata": {
        "id": "5UE0T8ENVn84"
      },
      "outputs": [],
      "source": [
        "# Cargar datos\n",
        "\n",
        "#lee el los valores del archivo csv\n",
        "df = pd.read_csv('diabetes.csv')\n",
        "#Omite la parte de los encabezados\n",
        "data = df.values\n",
        "\n",
        "amount_rows = data.shape[0]\n",
        "# 90% de los datos para entrenamiento\n",
        "train_rows= int(round(amount_rows * 0.9))\n",
        "X = data[:train_rows, :8]\n",
        "y = data[:train_rows, 8]\n",
        "m = y.size\n",
        "X, mu, sigma = featureNormalize(X)\n",
        "X = np.concatenate([np.ones((m, 1)), X], axis=1)"
      ]
    },
    {
      "cell_type": "code",
      "execution_count": 19,
      "metadata": {
        "id": "JQrs-6cGVn84"
      },
      "outputs": [],
      "source": [
        "def normalEqn(X, y):\n",
        "  \n",
        "    theta = np.zeros(X.shape[1])\n",
        "    \n",
        "    theta = np.dot(np.dot(np.linalg.inv(np.dot(X.T,X)),X.T),y)\n",
        "    \n",
        "    return theta"
      ]
    },
    {
      "cell_type": "code",
      "execution_count": 20,
      "metadata": {
        "colab": {
          "base_uri": "https://localhost:8080/"
        },
        "id": "d0OzpOyyVn84",
        "outputId": "d6bf15e9-8309-4b0e-cc92-ee46ce5248f9"
      },
      "outputs": [
        {
          "name": "stdout",
          "output_type": "stream",
          "text": [
            "Theta calculado a partir de la ecuación de la normal: [ 0.34298119  0.07397938  0.18149309 -0.04681268  0.00379188 -0.01851614\n",
            "  0.11116127  0.05132864  0.0203234 ]\n"
          ]
        }
      ],
      "source": [
        "# Calcula los parametros con la ecuación de la normal\n",
        "theta = normalEqn(X, y)\n",
        "\n",
        "# Muestra los resultados optenidos a partir de la aplicación de la ecuación de la normal\n",
        "print('Theta calculado a partir de la ecuación de la normal: {:s}'.format(str(theta)))\n",
        "\n",
        "# Estimar el precio para una casa de superficie de 1650 sq-ft y tres dormitorios\n"
      ]
    },
    {
      "cell_type": "code",
      "execution_count": 22,
      "metadata": {
        "id": "5x0e9E-cllqH"
      },
      "outputs": [],
      "source": [
        "# Pueba con el 10% que queda de elementos para la esperanza de vida como Y \n",
        "\n",
        "#lee el los valores del archivo csv\n",
        "df = pd.read_csv('diabetes.csv')\n",
        "#Omite la parte de los encabezados\n",
        "data = df.values\n",
        "\n",
        "amount_rows = data.shape[0]\n",
        "test_rows= int(round(amount_rows * 0.1))\n",
        "X = data[test_rows:, :8]\n",
        "Life_Expectancy_data= data[test_rows:, 8]\n",
        "\n",
        "X_norm, mu, sigma = featureNormalize(X)\n",
        "X_final = np.concatenate([np.ones((m, 1)), X_norm], axis=1)\n",
        "Life_Expectancy = np.dot(X_final, theta)  \n",
        "\n"
      ]
    },
    {
      "cell_type": "code",
      "execution_count": 23,
      "metadata": {
        "colab": {
          "base_uri": "https://localhost:8080/"
        },
        "id": "a5jAMSl2lv3-",
        "outputId": "282ad5a2-253b-429e-d052-96f93ea94fa0"
      },
      "outputs": [
        {
          "name": "stdout",
          "output_type": "stream",
          "text": [
            "Ejemplo 1 - Predicción: 0.2855193411627065 - Valor real: 0.0\n",
            "Ejemplo 2 - Predicción: 0.6118827511367458 - Valor real: 1.0\n",
            "Ejemplo 3 - Predicción: 0.13090334214700075 - Valor real: 0.0\n",
            "Ejemplo 4 - Predicción: 0.14304113810760863 - Valor real: 0.0\n",
            "Ejemplo 5 - Predicción: -0.32792904558285546 - Valor real: 0.0\n",
            "Ejemplo 6 - Predicción: 0.19043764279132408 - Valor real: 0.0\n",
            "Ejemplo 7 - Predicción: 0.006696776353445878 - Valor real: 0.0\n",
            "Ejemplo 8 - Predicción: 0.5858991703528776 - Valor real: 1.0\n",
            "Ejemplo 9 - Predicción: 0.2548645011498169 - Valor real: 0.0\n",
            "Ejemplo 10 - Predicción: 0.5159843752068352 - Valor real: 0.0\n",
            "Ejemplo 11 - Predicción: 0.24645220807172327 - Valor real: 0.0\n",
            "Ejemplo 12 - Predicción: 0.714484100636111 - Valor real: 1.0\n",
            "Ejemplo 13 - Predicción: 0.07330672545945172 - Valor real: 0.0\n",
            "Ejemplo 14 - Predicción: -0.15193555657838367 - Valor real: 0.0\n",
            "Ejemplo 15 - Predicción: 0.3134282454261944 - Valor real: 0.0\n",
            "Ejemplo 16 - Predicción: 0.3664271569317626 - Valor real: 0.0\n",
            "Ejemplo 17 - Predicción: 0.3221361192489852 - Valor real: 1.0\n",
            "Ejemplo 18 - Predicción: 0.3158854253928684 - Valor real: 0.0\n",
            "Ejemplo 19 - Predicción: 0.5004433404598612 - Valor real: 0.0\n",
            "Ejemplo 20 - Predicción: 0.09375526464371597 - Valor real: 0.0\n",
            "Ejemplo 21 - Predicción: -0.1640936180597828 - Valor real: 0.0\n",
            "Ejemplo 22 - Predicción: 0.20000290008812902 - Valor real: 0.0\n",
            "Ejemplo 23 - Predicción: 0.4489548735088093 - Valor real: 1.0\n",
            "Ejemplo 24 - Predicción: 0.7454174545826759 - Valor real: 1.0\n",
            "Ejemplo 25 - Predicción: 0.3348793794547062 - Valor real: 0.0\n",
            "Ejemplo 26 - Predicción: 0.034466568398727006 - Valor real: 0.0\n",
            "Ejemplo 27 - Predicción: -0.07289331062052876 - Valor real: 0.0\n",
            "Ejemplo 28 - Predicción: 0.2871055098888887 - Valor real: 0.0\n",
            "Ejemplo 29 - Predicción: 0.3172275983864957 - Valor real: 0.0\n",
            "Ejemplo 30 - Predicción: -0.17390102655642112 - Valor real: 0.0\n",
            "Ejemplo 31 - Predicción: 0.4416288441202312 - Valor real: 0.0\n",
            "Ejemplo 32 - Predicción: 0.14500730925446673 - Valor real: 0.0\n",
            "Ejemplo 33 - Predicción: 0.10591816098487258 - Valor real: 1.0\n",
            "Ejemplo 34 - Predicción: 0.5610778936833076 - Valor real: 1.0\n",
            "Ejemplo 35 - Predicción: 0.6460569775327469 - Valor real: 1.0\n",
            "Ejemplo 36 - Predicción: 0.017764971531131962 - Valor real: 0.0\n",
            "Ejemplo 37 - Predicción: 0.11705828798687366 - Valor real: 0.0\n",
            "Ejemplo 38 - Predicción: 0.6710854175175394 - Valor real: 1.0\n",
            "Ejemplo 39 - Predicción: 0.4923397900230001 - Valor real: 1.0\n",
            "Ejemplo 40 - Predicción: 0.3816583081718197 - Valor real: 1.0\n",
            "Ejemplo 41 - Predicción: 0.2225492997656447 - Valor real: 0.0\n",
            "Ejemplo 42 - Predicción: 0.1680236618363031 - Valor real: 0.0\n",
            "Ejemplo 43 - Predicción: 0.021349551467878737 - Valor real: 0.0\n",
            "Ejemplo 44 - Predicción: 0.8215906524745944 - Valor real: 1.0\n",
            "Ejemplo 45 - Predicción: 0.34780554687630594 - Valor real: 0.0\n",
            "Ejemplo 46 - Predicción: 0.20552032350637636 - Valor real: 0.0\n",
            "Ejemplo 47 - Predicción: 0.3574617728774508 - Valor real: 0.0\n",
            "Ejemplo 48 - Predicción: 0.17577414191336638 - Valor real: 1.0\n",
            "Ejemplo 49 - Predicción: 0.5125298782087723 - Valor real: 1.0\n",
            "Ejemplo 50 - Predicción: 0.4602626723621958 - Valor real: 0.0\n",
            "Ejemplo 51 - Predicción: 0.26120777680144586 - Valor real: 0.0\n",
            "Ejemplo 52 - Predicción: 0.23999694635742957 - Valor real: 1.0\n",
            "Ejemplo 53 - Predicción: 0.17332267391986078 - Valor real: 1.0\n",
            "Ejemplo 54 - Predicción: 0.5791672518809057 - Valor real: 1.0\n",
            "Ejemplo 55 - Predicción: 0.6264652863962158 - Valor real: 1.0\n",
            "Ejemplo 56 - Predicción: 0.6136401306719779 - Valor real: 1.0\n",
            "Ejemplo 57 - Predicción: 0.32648861950040103 - Valor real: 0.0\n",
            "Ejemplo 58 - Predicción: 0.025005007547089626 - Valor real: 0.0\n",
            "Ejemplo 59 - Predicción: 0.30089216175242056 - Valor real: 0.0\n",
            "Ejemplo 60 - Predicción: 0.12484664915930194 - Valor real: 0.0\n",
            "Ejemplo 61 - Predicción: 0.06295974418446118 - Valor real: 0.0\n",
            "Ejemplo 62 - Predicción: 0.30593436313433225 - Valor real: 0.0\n",
            "Ejemplo 63 - Predicción: 0.2452733296013563 - Valor real: 0.0\n",
            "Ejemplo 64 - Predicción: 0.20176987157643864 - Valor real: 0.0\n",
            "Ejemplo 65 - Predicción: 0.3552471611619656 - Valor real: 0.0\n",
            "Ejemplo 66 - Predicción: 0.23898828428416533 - Valor real: 0.0\n",
            "Ejemplo 67 - Predicción: 0.412060380248888 - Valor real: 1.0\n",
            "Ejemplo 68 - Predicción: 0.48187069067793814 - Valor real: 0.0\n",
            "Ejemplo 69 - Predicción: -0.315854825242726 - Valor real: 0.0\n",
            "Ejemplo 70 - Predicción: 0.04663883718167418 - Valor real: 0.0\n",
            "Ejemplo 71 - Predicción: 0.3551530809861909 - Valor real: 0.0\n",
            "Ejemplo 72 - Predicción: 0.5463380338531341 - Valor real: 0.0\n",
            "Ejemplo 73 - Predicción: -0.012502392952979995 - Valor real: 0.0\n",
            "Ejemplo 74 - Predicción: 0.39373711726811916 - Valor real: 0.0\n",
            "Ejemplo 75 - Predicción: 0.18165363790300693 - Valor real: 0.0\n",
            "Ejemplo 76 - Predicción: 0.7720002743681972 - Valor real: 1.0\n",
            "Ejemplo 77 - Predicción: 0.5141193912405733 - Valor real: 0.0\n"
          ]
        }
      ],
      "source": [
        "# impresion de los datos predecidos y los reales\n",
        "for i in range(test_rows):\n",
        "    print(\"Ejemplo\", i+1, \"- Predicción:\", Life_Expectancy[i], \"- Valor real:\", Life_Expectancy_data[i])"
      ]
    }
  ],
  "metadata": {
    "colab": {
      "provenance": []
    },
    "kernelspec": {
      "display_name": "Python 3",
      "language": "python",
      "name": "python3"
    },
    "language_info": {
      "codemirror_mode": {
        "name": "ipython",
        "version": 3
      },
      "file_extension": ".py",
      "mimetype": "text/x-python",
      "name": "python",
      "nbconvert_exporter": "python",
      "pygments_lexer": "ipython3",
      "version": "3.10.8"
    }
  },
  "nbformat": 4,
  "nbformat_minor": 0
}
