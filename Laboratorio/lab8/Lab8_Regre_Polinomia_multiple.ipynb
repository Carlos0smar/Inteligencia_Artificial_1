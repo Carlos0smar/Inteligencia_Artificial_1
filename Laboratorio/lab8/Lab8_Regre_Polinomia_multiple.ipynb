{
  "cells": [
    {
      "attachments": {},
      "cell_type": "markdown",
      "metadata": {
        "id": "fxYd72KmVn8x"
      },
      "source": [
        "# Ejercicio de programación Regresión Lineal Multiple"
      ]
    },
    {
      "attachments": {},
      "cell_type": "markdown",
      "metadata": {},
      "source": [
        "# Ejercicio de programación Regresión Lineal Multiple"
      ]
    },
    {
      "cell_type": "code",
      "execution_count": 1,
      "metadata": {
        "id": "-NQwq_hsVn80"
      },
      "outputs": [],
      "source": [
        "# utilizado para manejos de directorios y rutas\n",
        "import os\n",
        "\n",
        "# Computacion vectorial y cientifica para python\n",
        "import numpy as np\n",
        "\n",
        "# Librerias para graficación (trazado de gráficos)\n",
        "from matplotlib import pyplot\n",
        "from mpl_toolkits.mplot3d import Axes3D  # Necesario para graficar superficies 3D\n",
        "\n",
        "import pandas as pd\n",
        "\n",
        "import matplotlib.pyplot as plt\n",
        "\n",
        "# llama a matplotlib a embeber graficas dentro de los cuadernillos\n",
        "%matplotlib inline\n",
        "\n"
      ]
    },
    {
      "attachments": {},
      "cell_type": "markdown",
      "metadata": {
        "id": "dl4y9LL2Vn81"
      },
      "source": [
        "## 2 Regresión lineal con multiples variables\n",
        "\n",
        "Se implementa la regresion lineal multivariable para predecir el precio de las casas. El archivo `Datasets/ex1data2.txt` contiene un conjunto de entrenamiento de precios de casas en Portland, Oregon. La primera columna es el tamaño de la casa en metros cuadrados, la segunda columna es el numero de cuartos, y la tercera columna es el precio de la casa. \n",
        "\n",
        "<a id=\"section4\"></a>\n",
        "### 2.1 Normalización de caracteristicas\n",
        "\n",
        "Al visualizar los datos se puede observar que las caracteristicas tienen diferentes magnitudes, por lo cual se debe transformar cada valor en una escala de valores similares, esto con el fin de que el descenso por el gradiente pueda converger mas rapidamente."
      ]
    },
    {
      "cell_type": "code",
      "execution_count": 2,
      "metadata": {
        "colab": {
          "base_uri": "https://localhost:8080/"
        },
        "id": "IzvXlXHMVn81",
        "outputId": "9b666da7-d88c-4ba7-a1ec-8d54301a5719"
      },
      "outputs": [
        {
          "name": "stdout",
          "output_type": "stream",
          "text": [
            "  X[:,0]  X[:,1]         y\n",
            "--------------------------\n",
            "       5      25        50\n",
            "      10     100       100\n",
            "      15     225       200\n",
            "      20     400       500\n",
            "      25     625      2000\n",
            "      30     900      7000\n",
            "      35    1225     10000\n",
            "      40    1600     14000\n"
          ]
        }
      ],
      "source": [
        "# Cargar datos\n",
        "# data = np.loadtxt(os.path.join('Datasets', 'ex1data2.txt'), delimiter=',')\n",
        "# total 2.864 rows.\n",
        "\n",
        "\n",
        "\n",
        "# df = pd.read_csv('data_polinomica.csv')\n",
        "df = pd.read_csv('data_polinomica.csv')\n",
        "#Omite la parte de los encabezados\n",
        "data = df.values\n",
        "\n",
        "\n",
        "X = data[:, 1]\n",
        "# Es x al cuadrado\n",
        "x1 = X ** 2\n",
        "# print(X)\n",
        "y = data[:, 0]\n",
        "# print(y)\n",
        "m = y.size\n",
        "# X concatenado con su cuadrado\n",
        "X = np.column_stack((X, x1))\n",
        "# print(X)\n",
        "# imprimir algunos puntos de datos\n",
        "print('{:>8s}{:>8s}{:>10s}'.format('X[:,0]','X[:,1]', 'y'))\n",
        "print('-'*26)\n",
        "for i in range(8):\n",
        "    print('{:8.0f}{:8.0f}{:10.0f}'.format(X[i,0], X[i,1] ,y[i]))\n",
        "\n"
      ]
    },
    {
      "cell_type": "code",
      "execution_count": null,
      "metadata": {},
      "outputs": [],
      "source": []
    },
    {
      "cell_type": "code",
      "execution_count": 3,
      "metadata": {
        "id": "fomck4PuE1Os"
      },
      "outputs": [],
      "source": [
        "# # Diagrama de dispersión\n",
        "# plt.scatter(X, y)\n",
        "# plt.xlabel('Edad')\n",
        "# plt.ylabel('Sueldo')\n",
        "# plt.title('Diagrama de dispersión')\n",
        "# plt.show()\n",
        "\n",
        "def plotData(x, y):\n",
        "    #Grafica los puntos x e y en una figura nueva. \n",
        "    \n",
        "    fig = pyplot.figure()  # abre una nueva figura\n",
        "    \n",
        "    pyplot.plot(x, y, 'ro', ms=7, mec='k')\n",
        "    pyplot.ylabel('Salarios')\n",
        "    pyplot.xlabel('Edad')\n"
      ]
    },
    {
      "cell_type": "code",
      "execution_count": 4,
      "metadata": {},
      "outputs": [
        {
          "data": {
            "image/png": "[encoded data removed]",
            "text/plain": [
              "<Figure size 640x480 with 1 Axes>"
            ]
          },
          "metadata": {},
          "output_type": "display_data"
        }
      ],
      "source": [
        "j = X[:,0]\n",
        "plotData(j, y)"
      ]
    },
    {
      "cell_type": "code",
      "execution_count": 5,
      "metadata": {
        "id": "esqvqOhtE3Xt"
      },
      "outputs": [],
      "source": [
        "# plotData(X, y)"
      ]
    },
    {
      "attachments": {},
      "cell_type": "markdown",
      "metadata": {
        "id": "FtXNyqmpXNf0"
      },
      "source": [
        "# New Section"
      ]
    },
    {
      "attachments": {},
      "cell_type": "markdown",
      "metadata": {
        "id": "pP-oF-Y8W3zp"
      },
      "source": [
        "## 2 Regresión lineal con multiples variables\n",
        "\n",
        "Se implementa la regresion lineal multivariable para predecir el precio de las casas. El archivo `Datasets/ex1data2.txt` contiene un conjunto de entrenamiento de precios de casas en Portland, Oregon. La primera columna es el tamaño de la casa en metros cuadrados, la segunda columna es el numero de cuartos, y la tercera columna es el precio de la casa. \n",
        "\n",
        "<a id=\"section4\"></a>\n",
        "### 2.1 Normalización de caracteristicas\n",
        "\n",
        "Al visualizar los datos se puede observar que las caracteristicas tienen diferentes magnitudes, por lo cual se debe transformar cada valor en una escala de valores similares, esto con el fin de que el descenso por el gradiente pueda converger mas rapidamente."
      ]
    },
    {
      "attachments": {},
      "cell_type": "markdown",
      "metadata": {
        "id": "Lr8JRNkyVn82"
      },
      "source": [
        "La desviación estándar es una forma de medir cuánta variación hay en el rango de valores de una característica en particular (la mayoría de los puntos caeran en un rango de ± 2 en relación a la desviaciones estándar de la media); esta es una alternativa a tomar el rango de valores (max-min). En `numpy`, se puede usar la función `std` para calcular la desviacion estandar. \n",
        "\n",
        "Por ejemplo, la caracteristica`X[:, 0]` contiene todos los valores de $x_1$ (tamaño de las casas) en el conjunto de entrenamiento, entonces `np.std(X[:, 0])` calcula la desviacion estandar de los tamaños de las casas.\n",
        "En el momento en que se llama a la función `featureNormalize`, la columna adicional de unos correspondiente a $ x_0 = 1 $ aún no se ha agregado a $ X $. \n",
        "\n",
        "<div class=\"alert alert-block alert-warning\">\n",
        "**Notas para la implementación:** Cuando se normalize una caracteristica, es importante almacenar los valores usados para la normalización - el valor de la media y el valor de la desviación estandar usado para los calculos. Despues de aprender los parametros del modelo, se deseara predecir los precios de casas que no se han visto antes. Dado un nuevo valor de x (area del living room y el numero de dormitorios), primero se debe normalizar x usando la media y la desviacion estandar que se empleo anteriormente en el conjunto de entrenamiento para entrenar el modelo.\n",
        "</div>\n",
        "<a id=\"featureNormalize\"></a>"
      ]
    },
    {
      "cell_type": "code",
      "execution_count": 6,
      "metadata": {
        "id": "dgT4rR9iVn82"
      },
      "outputs": [],
      "source": [
        "def  featureNormalize(X):\n",
        "    X_norm = X.copy()\n",
        "    mu = np.zeros(X.shape[1])\n",
        "    sigma = np.zeros(X.shape[1])\n",
        "\n",
        "    mu = np.mean(X, axis = 0)\n",
        "    sigma = np.std(X, axis = 0)\n",
        "    X_norm = (X - mu) / sigma\n",
        "    \n",
        "    return X_norm, mu, sigma"
      ]
    },
    {
      "cell_type": "code",
      "execution_count": 7,
      "metadata": {
        "colab": {
          "base_uri": "https://localhost:8080/"
        },
        "id": "MfiaMoWEVn82",
        "outputId": "ade60105-ce34-4819-e4bf-7625c9c1463c"
      },
      "outputs": [
        {
          "name": "stdout",
          "output_type": "stream",
          "text": [
            "Media calculada: [  40.         2066.66666667]\n",
            "Desviación estandar calculada: [  21.60246899 1777.23255528]\n",
            "[[-1.62018517 -1.14878982]\n",
            " [-1.38873015 -1.10658938]\n",
            " [-1.15727512 -1.03625531]\n",
            " [-0.9258201  -0.93778761]\n",
            " [-0.69436507 -0.81118628]\n",
            " [-0.46291005 -0.65645133]\n",
            " [-0.23145502 -0.47358274]\n",
            " [ 0.         -0.26258053]\n",
            " [ 0.23145502 -0.02344469]\n",
            " [ 0.46291005  0.24382478]\n",
            " [ 0.69436507  0.53922787]\n",
            " [ 0.9258201   0.8627646 ]\n",
            " [ 1.15727512  1.21443495]\n",
            " [ 1.38873015  1.59423893]\n",
            " [ 1.62018517  2.00217654]]\n"
          ]
        }
      ],
      "source": [
        "# llama featureNormalize con los datos cargados\n",
        "X_norm, mu, sigma = featureNormalize(X)\n",
        "\n",
        "print('Media calculada:', mu)\n",
        "print('Desviación estandar calculada:', sigma)\n",
        "print(X_norm)"
      ]
    },
    {
      "attachments": {},
      "cell_type": "markdown",
      "metadata": {
        "id": "pDbib1JVVn82"
      },
      "source": [
        "Despues de `featureNormalize` la funcion es provada, se añade el temino de interseccion a `X_norm`:"
      ]
    },
    {
      "cell_type": "code",
      "execution_count": 8,
      "metadata": {
        "id": "qXpGaaD0Vn83"
      },
      "outputs": [
        {
          "name": "stdout",
          "output_type": "stream",
          "text": [
            "[[ 1.         -1.62018517 -1.14878982]\n",
            " [ 1.         -1.38873015 -1.10658938]\n",
            " [ 1.         -1.15727512 -1.03625531]\n",
            " [ 1.         -0.9258201  -0.93778761]\n",
            " [ 1.         -0.69436507 -0.81118628]\n",
            " [ 1.         -0.46291005 -0.65645133]\n",
            " [ 1.         -0.23145502 -0.47358274]\n",
            " [ 1.          0.         -0.26258053]\n",
            " [ 1.          0.23145502 -0.02344469]\n",
            " [ 1.          0.46291005  0.24382478]\n",
            " [ 1.          0.69436507  0.53922787]\n",
            " [ 1.          0.9258201   0.8627646 ]\n",
            " [ 1.          1.15727512  1.21443495]\n",
            " [ 1.          1.38873015  1.59423893]\n",
            " [ 1.          1.62018517  2.00217654]]\n"
          ]
        }
      ],
      "source": [
        "# Añade el termino de interseccion a X\n",
        "# (Columna de unos para X0)\n",
        "\n",
        "# X = np.concatenate([np.ones((m, 1)), X], axis=1)\n",
        "X = np.concatenate([np.ones((m, 1)), X_norm], axis=1)\n",
        "\n",
        "\n",
        "# Imprimir el resultado\n",
        "print(X)"
      ]
    },
    {
      "attachments": {},
      "cell_type": "markdown",
      "metadata": {
        "id": "V54HlIKAVn83"
      },
      "source": [
        "<a id=\"section5\"></a>\n",
        "### 2.2 Descenso por el gradiente\n",
        "\n",
        "En el ejemplo anterior se implemento el descenso por el gradiente para un problema de regresion univariable. La unica diferencia es que ahora existe una caracteristica adicional en la matriz $X$. La función de hipótesis y la regla de actualización del descenso del gradiente por lotes permanecen sin cambios.\n",
        "\n",
        "La implementacion de las funciones `computeCostMulti` y `gradientDescentMulti` son similares a la funcion de costo y función de descenso por el gradiente de la regresión lineal multiple es similar al de la regresion lineal multivariable. Es importante garantizar que el codigo soporte cualquier numero de caracteristicas y esten bien vectorizadas.\n",
        "\n",
        "Se puede utilizar `shape`, propiedad de los arrays `numpy`, para identificar cuantas caracteristicas estan consideradas en el dataset.\n",
        "\n",
        "<div class=\"alert alert-block alert-warning\">\n",
        "**Nota de implementación:** En el caso de multivariables, la función de costo puede se escrita considerando la forma vectorizada de la siguiente manera:\n",
        "\n",
        "$$ J(\\theta) = \\frac{1}{2m}(X\\theta - \\vec{y})^T(X\\theta - \\vec{y}) $$\n",
        "\n",
        "donde:\n",
        "\n",
        "$$ X = \\begin{pmatrix}\n",
        "          - (x^{(1)})^T - \\\\\n",
        "          - (x^{(2)})^T - \\\\\n",
        "          \\vdots \\\\\n",
        "          - (x^{(m)})^T - \\\\ \\\\\n",
        "        \\end{pmatrix} \\qquad \\mathbf{y} = \\begin{bmatrix} y^{(1)} \\\\ y^{(2)} \\\\ \\vdots \\\\ y^{(m)} \\\\\\end{bmatrix}$$\n",
        "\n",
        "La version vectorizada es eficiente cuando se trabaja con herramientas de calculo numericos computacional como `numpy`. \n",
        "</div>\n",
        "\n",
        "<a id=\"computeCostMulti\"></a>"
      ]
    },
    {
      "cell_type": "code",
      "execution_count": 9,
      "metadata": {
        "id": "R5xCTuCUVn83"
      },
      "outputs": [],
      "source": [
        "def computeCostMulti(X, y, theta):\n",
        "    # Inicializa algunos valores utiles\n",
        "    m = y.shape[0] # numero de ejemplos de entrenamiento\n",
        "    \n",
        "    J = 0\n",
        "    \n",
        "    h = np.dot(X, theta)\n",
        "    \n",
        "    J = (1/(2 * m)) * np.sum(np.square(np.dot(X, theta) - y))\n",
        "    \n",
        "    return J\n"
      ]
    },
    {
      "cell_type": "code",
      "execution_count": 10,
      "metadata": {
        "id": "1FbQyFHtVn83"
      },
      "outputs": [],
      "source": [
        "def gradientDescentMulti(X, y, theta, alpha, num_iters):\n",
        "    \n",
        "    # Inicializa algunos valores \n",
        "    m = y.shape[0] # numero de ejemplos de entrenamiento\n",
        "    \n",
        "    # realiza una copia de theta, el cual será acutalizada por el descenso por el gradiente\n",
        "    theta = theta.copy()\n",
        "    \n",
        "    J_history = []\n",
        "    \n",
        "    for i in range(num_iters):\n",
        "        theta = theta - (alpha / m) * (np.dot(X, theta) - y).dot(X)\n",
        "        J_history.append(computeCostMulti(X, y, theta))\n",
        "    \n",
        "    return theta, J_history"
      ]
    },
    {
      "attachments": {},
      "cell_type": "markdown",
      "metadata": {
        "id": "dJ2VxNfaVn83"
      },
      "source": [
        "#### 3.2.1 Seleccionando coheficientes de aprendizaje\n"
      ]
    },
    {
      "cell_type": "code",
      "execution_count": 11,
      "metadata": {
        "colab": {
          "base_uri": "https://localhost:8080/",
          "height": 486
        },
        "id": "K4gVCgsfVn84",
        "outputId": "e0b0bbbe-20ed-49fb-930d-70e354a4e2dd"
      },
      "outputs": [
        {
          "name": "stdout",
          "output_type": "stream",
          "text": [
            "theta calculado por el descenso por el gradiente: [  6456.66666667  22894.30316699 -21744.3922815 ]\n",
            "j 10457397.944548354\n"
          ]
        },
        {
          "data": {
            "image/png": "[encoded data removed]",
            "text/plain": [
              "<Figure size 640x480 with 1 Axes>"
            ]
          },
          "metadata": {},
          "output_type": "display_data"
        }
      ],
      "source": [
        "# Elegir algun valor para alpha (probar varias alternativas)\n",
        "alpha = 0.003 # alpha = 0.003\n",
        "num_iters = 50000\n",
        "\n",
        "# inicializa theta y ejecuta el descenso por el gradiente\n",
        "theta = np.zeros(3)\n",
        "theta, J_history = gradientDescentMulti(X, y, theta, alpha, num_iters)\n",
        "\n",
        "# Grafica la convergencia del costo\n",
        "pyplot.plot(np.arange(len(J_history)), J_history, lw=2)\n",
        "pyplot.xlabel('Numero de iteraciones')\n",
        "pyplot.ylabel('Costo J')\n",
        "\n",
        "# Muestra los resultados del descenso por el gradiente\n",
        "print('theta calculado por el descenso por el gradiente: {:s}'.format(str(theta)))\n",
        "print('j', J_history[-1])\n",
        "\n",
        "\n",
        "\n",
        "# print('El precio predecido para una casa de 1650 sq-ft y 3 dormitorios (usando el descenso por el gradiente): ${:.0f}'.format(price))"
      ]
    },
    {
      "cell_type": "code",
      "execution_count": 12,
      "metadata": {
        "id": "5Bqbn4VtVn84"
      },
      "outputs": [],
      "source": [
        "# prueba con el 20% que queda de elementos para la esperanza de vida como Y \n",
        "X = data[:, 1]\n",
        "# Es x al cuadrado\n",
        "x1 = X ** 2\n",
        "# print(X)\n",
        "y = data[:, 0]\n",
        "# print(y)\n",
        "m = y.size\n",
        "# X concatenado con su cuadrado\n",
        "X = np.column_stack((X, x1))\n",
        "\n",
        "X_norm, mu, sigma = featureNormalize(X)\n",
        "X_final = np.concatenate([np.ones((m, 1)), X_norm], axis=1)\n",
        "Life_Expectancy = np.dot(X_final, theta)  \n",
        "\n",
        "# X_array = [1, 1650, 3]\n",
        "# X_array[1:3] = (X_array[:11] - mu) / sigma\n"
      ]
    },
    {
      "cell_type": "code",
      "execution_count": 13,
      "metadata": {
        "colab": {
          "base_uri": "https://localhost:8080/"
        },
        "id": "YiFRyR0DVn84",
        "outputId": "8cb0c7ec-163b-423d-e803-e3212fc13664"
      },
      "outputs": [
        {
          "name": "stdout",
          "output_type": "stream",
          "text": [
            "Ejemplo 1 - Predicción: -5656.607419765912 - Valor real: 50\n",
            "Ejemplo 2 - Predicción: -1275.2288822076391 - Valor real: 100\n",
            "Ejemplo 3 - Predicción: 2494.401006675605 - Valor real: 200\n",
            "Ejemplo 4 - Predicción: 5652.282246883843 - Valor real: 500\n",
            "Ejemplo 5 - Predicción: 8198.414838417066 - Valor real: 2000\n",
            "Ejemplo 6 - Predicción: 10132.798781275274 - Valor real: 7000\n",
            "Ejemplo 7 - Predicción: 11455.434075458468 - Valor real: 10000\n",
            "Ejemplo 8 - Predicción: 12166.320720966647 - Valor real: 14000\n",
            "Ejemplo 9 - Predicción: 12265.458717799815 - Valor real: 18000\n",
            "Ejemplo 10 - Predicción: 11752.848065957967 - Valor real: 20000\n",
            "Ejemplo 11 - Predicción: 10628.488765441101 - Valor real: 17000\n",
            "Ejemplo 12 - Predicción: 8892.38081624923 - Valor real: 4000\n",
            "Ejemplo 13 - Predicción: 6544.524218382337 - Valor real: 2000\n",
            "Ejemplo 14 - Predicción: 3584.9189718404255 - Valor real: 1000\n",
            "Ejemplo 15 - Predicción: 13.565076623512025 - Valor real: 1000\n"
          ]
        }
      ],
      "source": [
        "# impresion de los datos predecidos y los reales\n",
        "for i in range(m):\n",
        "    print(\"Ejemplo\", i+1, \"- Predicción:\", Life_Expectancy[i], \"- Valor real:\", y[i])\n"
      ]
    },
    {
      "cell_type": "code",
      "execution_count": 14,
      "metadata": {},
      "outputs": [
        {
          "data": {
            "image/png": "[encoded data removed]",
            "text/plain": [
              "<Figure size 640x480 with 1 Axes>"
            ]
          },
          "metadata": {},
          "output_type": "display_data"
        }
      ],
      "source": [
        "# Gráfica de la regresión polinómica\n",
        "\n",
        "coefficients = np.polyfit(X[:,0], y, 2)\n",
        "polynomial = np.poly1d(coefficients)\n",
        "x_values = np.linspace(min(X[:,0]), max(X[:,0]), 10)\n",
        "y_values = polynomial(x_values)\n",
        "# Gráfico de dispersión de los datos\n",
        "plt.scatter(X[:,0], y, color='blue', label='Datos')\n",
        "\n",
        "# Gráfico de la regresión polinómica\n",
        "plt.plot(x_values, y_values, color='red', label='Regresión polinómica')\n",
        "\n",
        "# Etiquetas de los ejes\n",
        "plt.xlabel('x')\n",
        "plt.ylabel('y')\n",
        "\n",
        "# Título del gráfico\n",
        "plt.title('Regresión polinómica')\n",
        "\n",
        "# Leyenda\n",
        "plt.legend()\n",
        "\n",
        "# Mostrar el gráfico\n",
        "plt.show()"
      ]
    }
  ],
  "metadata": {
    "colab": {
      "provenance": []
    },
    "kernelspec": {
      "display_name": "Python 3",
      "language": "python",
      "name": "python3"
    },
    "language_info": {
      "codemirror_mode": {
        "name": "ipython",
        "version": 3
      },
      "file_extension": ".py",
      "mimetype": "text/x-python",
      "name": "python",
      "nbconvert_exporter": "python",
      "pygments_lexer": "ipython3",
      "version": "3.10.8"
    }
  },
  "nbformat": 4,
  "nbformat_minor": 0
}
