{
  "cells": [
    {
      "attachments": {},
      "cell_type": "markdown",
      "metadata": {
        "id": "fxYd72KmVn8x"
      },
      "source": [
        "# Ejercicio de programación Regresión Lineal Multiple"
      ]
    },
    {
      "attachments": {},
      "cell_type": "markdown",
      "metadata": {},
      "source": [
        "# Ejercicio de programación Regresión Lineal Multiple"
      ]
    },
    {
      "cell_type": "code",
      "execution_count": 27,
      "metadata": {
        "id": "-NQwq_hsVn80"
      },
      "outputs": [],
      "source": [
        "# utilizado para manejos de directorios y rutas\n",
        "import os\n",
        "\n",
        "# Computacion vectorial y cientifica para python\n",
        "import numpy as np\n",
        "\n",
        "# Librerias para graficación (trazado de gráficos)\n",
        "from matplotlib import pyplot\n",
        "from mpl_toolkits.mplot3d import Axes3D  # Necesario para graficar superficies 3D\n",
        "\n",
        "import pandas as pd\n",
        "\n",
        "# llama a matplotlib a embeber graficas dentro de los cuadernillos\n",
        "%matplotlib inline\n",
        "\n"
      ]
    },
    {
      "attachments": {},
      "cell_type": "markdown",
      "metadata": {
        "id": "dl4y9LL2Vn81"
      },
      "source": [
        "## 2 Regresión lineal con multiples variables\n",
        "\n",
        "Se implementa la regresion lineal multivariable para predecir el precio de las casas. El archivo `Datasets/ex1data2.txt` contiene un conjunto de entrenamiento de precios de casas en Portland, Oregon. La primera columna es el tamaño de la casa en metros cuadrados, la segunda columna es el numero de cuartos, y la tercera columna es el precio de la casa. \n",
        "\n",
        "<a id=\"section4\"></a>\n",
        "### 2.1 Normalización de caracteristicas\n",
        "\n",
        "Al visualizar los datos se puede observar que las caracteristicas tienen diferentes magnitudes, por lo cual se debe transformar cada valor en una escala de valores similares, esto con el fin de que el descenso por el gradiente pueda converger mas rapidamente."
      ]
    },
    {
      "cell_type": "code",
      "execution_count": 28,
      "metadata": {
        "colab": {
          "base_uri": "https://localhost:8080/"
        },
        "id": "IzvXlXHMVn81",
        "outputId": "9b666da7-d88c-4ba7-a1ec-8d54301a5719"
      },
      "outputs": [
        {
          "name": "stdout",
          "output_type": "stream",
          "text": [
            "  X[:,0] X[:, 1] X[:, 2] X[:, 3] X[:, 4] X[:, 5]         y\n",
            "---------------------------\n",
            "     260     400     209     980       4     189       668\n",
            "     250     405     210    1000       4     146        50\n",
            "     135     315     165     230       5      36       840\n",
            "     250     415     181     640       5      63       667\n",
            "     220     425     197    1050       4      98       514\n",
            "     140     310     168     230       5      37       840\n",
            "     260     415     202    1020       4     156       348\n",
            "     145     170     168     180       4      39       900\n",
            "     250     395     180     970       4     108       867\n",
            "     250     460     182    1130       4     114       389\n"
          ]
        }
      ],
      "source": [
        "# Cargar datos\n",
        "\n",
        "\n",
        "\n",
        "'''\n",
        "ESTUDIANTE: Victoria Avila Carlos Osmar\n",
        "CARRERA: Ingeniería en Ciencias de la Computación\n",
        "CU: 111-333\n",
        "\n",
        "\n",
        "INFORMACIÓN SOBRE EL CONJUNTO DE DATOS:\n",
        "El conjunto de datos contiene características y expectativas de vida de 193 países de 2000 a 2015.\n",
        "Columnas X\n",
        "x1 = Año\n",
        "x2 = Mortalidad infantil\n",
        "x3 = Mortalidad de menores de cinco años\n",
        "x4 = Mortalidad adulta\n",
        "x5 = Muerte por consumo de Alcohol\n",
        "x6 = Hepatitis B\n",
        "x7 = Sarampión\n",
        "x8 = IMC\n",
        "x9 = Polio\n",
        "x10 = Difteria\n",
        "x11 = VIH / SIDA\n",
        "\n",
        "Columna Y\n",
        "Y = Esperanza de vida\n",
        "\n",
        "'''\n",
        "# Total de tados en el dataset 2.864 rows.\n",
        "# 2.577 rows para entrenamiento (90%)\n",
        "# 287 rows para test (10%) (el test se realiza al final del notebook)\n",
        "\n",
        "#lee el los valores del archivo csv\n",
        "df = pd.read_csv('Cars2023.csv')\n",
        "#Omite la parte de los encabezados\n",
        "data = df.values\n",
        "\n",
        "amount_rows = data.shape[0]\n",
        "# 90% de los datos para entrenamiento\n",
        "train_rows= int(round(amount_rows * 0.95))\n",
        "X = data[:train_rows, :6]\n",
        "y = data[:train_rows, 6]\n",
        "m = y.size\n",
        "\n",
        "# imprimir algunos puntos de datos\n",
        "print('{:>8s}{:>8s}{:>8s}{:>8s}{:>8s}{:>8s}{:>10s}'.format('X[:,0]', 'X[:, 1]', 'X[:, 2]', 'X[:, 3]', 'X[:, 4]', 'X[:, 5]', 'y'))\n",
        "print('-'*27)\n",
        "for i in range(10):\n",
        "    print('{:>8.0f}{:>8.0f}{:>8.0f}{:>8.0f}{:>8.0f}{:>8.0f}{:10.0f}'.format(X[i, 0], X[i, 1], X[i, 2], X[i, 3], X[i, 4], X[i, 5], y[i]))\n"
      ]
    },
    {
      "attachments": {},
      "cell_type": "markdown",
      "metadata": {
        "id": "FtXNyqmpXNf0"
      },
      "source": [
        "# New Section"
      ]
    },
    {
      "attachments": {},
      "cell_type": "markdown",
      "metadata": {
        "id": "pP-oF-Y8W3zp"
      },
      "source": [
        "## 2 Regresión lineal con multiples variables\n",
        "\n",
        "Se implementa la regresion lineal multivariable para predecir el precio de las casas. El archivo `Datasets/ex1data2.txt` contiene un conjunto de entrenamiento de precios de casas en Portland, Oregon. La primera columna es el tamaño de la casa en metros cuadrados, la segunda columna es el numero de cuartos, y la tercera columna es el precio de la casa. \n",
        "\n",
        "<a id=\"section4\"></a>\n",
        "### 2.1 Normalización de caracteristicas\n",
        "\n",
        "Al visualizar los datos se puede observar que las caracteristicas tienen diferentes magnitudes, por lo cual se debe transformar cada valor en una escala de valores similares, esto con el fin de que el descenso por el gradiente pueda converger mas rapidamente."
      ]
    },
    {
      "attachments": {},
      "cell_type": "markdown",
      "metadata": {
        "id": "Lr8JRNkyVn82"
      },
      "source": [
        "La desviación estándar es una forma de medir cuánta variación hay en el rango de valores de una característica en particular (la mayoría de los puntos caeran en un rango de ± 2 en relación a la desviaciones estándar de la media); esta es una alternativa a tomar el rango de valores (max-min). En `numpy`, se puede usar la función `std` para calcular la desviacion estandar. \n",
        "\n",
        "Por ejemplo, la caracteristica`X[:, 0]` contiene todos los valores de $x_1$ (tamaño de las casas) en el conjunto de entrenamiento, entonces `np.std(X[:, 0])` calcula la desviacion estandar de los tamaños de las casas.\n",
        "En el momento en que se llama a la función `featureNormalize`, la columna adicional de unos correspondiente a $ x_0 = 1 $ aún no se ha agregado a $ X $. \n",
        "\n",
        "<div class=\"alert alert-block alert-warning\">\n",
        "**Notas para la implementación:** Cuando se normalize una caracteristica, es importante almacenar los valores usados para la normalización - el valor de la media y el valor de la desviación estandar usado para los calculos. Despues de aprender los parametros del modelo, se deseara predecir los precios de casas que no se han visto antes. Dado un nuevo valor de x (area del living room y el numero de dormitorios), primero se debe normalizar x usando la media y la desviacion estandar que se empleo anteriormente en el conjunto de entrenamiento para entrenar el modelo.\n",
        "</div>\n",
        "<a id=\"featureNormalize\"></a>"
      ]
    },
    {
      "cell_type": "code",
      "execution_count": 29,
      "metadata": {
        "id": "dgT4rR9iVn82"
      },
      "outputs": [],
      "source": [
        "def  featureNormalize(X):\n",
        "    X_norm = X.copy()\n",
        "    mu = np.zeros(X.shape[1])\n",
        "    sigma = np.zeros(X.shape[1])\n",
        "\n",
        "    mu = np.mean(X, axis = 0)\n",
        "    sigma = np.std(X, axis = 0)\n",
        "    X_norm = (X - mu) / sigma\n",
        "    \n",
        "    return X_norm, mu, sigma"
      ]
    },
    {
      "cell_type": "code",
      "execution_count": 30,
      "metadata": {
        "colab": {
          "base_uri": "https://localhost:8080/"
        },
        "id": "MfiaMoWEVn82",
        "outputId": "ade60105-ce34-4819-e4bf-7625c9c1463c"
      },
      "outputs": [
        {
          "name": "stdout",
          "output_type": "stream",
          "text": [
            "[[ 260.  400.  209.  980.    4.  189.]\n",
            " [ 250.  405.  210. 1000.    4.  146.]\n",
            " [ 135.  315.  165.  230.    5.   36.]\n",
            " ...\n",
            " [ 200.  425.  206.  550.    5.   72.]\n",
            " [ 200.  400.  230.  540.    7.   82.]\n",
            " [ 200.  520.  237.  520.    7.   89.]]\n",
            "Media calculada: [180.81304348 358.5        202.78695652 539.47826087   5.3826087\n",
            "  68.64347826]\n",
            "Desviación estandar calculada: [ 39.27168251 107.40632926  33.66862563 250.8328509    1.00505339\n",
            "  33.08676113]\n",
            "[[ 2.01638818e+00  3.86383189e-01  1.84535108e-01  1.75623622e+00\n",
            "  -1.37565696e+00  3.63760361e+00]\n",
            " [ 1.76175178e+00  4.32935380e-01  2.14236350e-01  1.83597060e+00\n",
            "  -1.37565696e+00  2.33799015e+00]\n",
            " [-1.16656686e+00 -4.05004065e-01 -1.12231954e+00 -1.23380275e+00\n",
            "  -3.80684945e-01 -9.86602410e-01]\n",
            " ...\n",
            " [ 4.88569761e-01  6.19144146e-01  9.54313821e-02  4.19472134e-02\n",
            "  -3.80684945e-01  1.01446066e-01]\n",
            " [ 4.88569761e-01  3.86383189e-01  8.08261192e-01  2.08002711e-03\n",
            "   1.60925908e+00  4.03681753e-01]\n",
            " [ 4.88569761e-01  1.50363578e+00  1.01616989e+00 -7.76543455e-02\n",
            "   1.60925908e+00  6.15246735e-01]]\n"
          ]
        }
      ],
      "source": [
        "# llama featureNormalize con los datos cargados\n",
        "X_norm, mu, sigma = featureNormalize(X)\n",
        "\n",
        "print(X)\n",
        "print('Media calculada:', mu)\n",
        "print('Desviación estandar calculada:', sigma)\n",
        "print(X_norm)"
      ]
    },
    {
      "attachments": {},
      "cell_type": "markdown",
      "metadata": {
        "id": "pDbib1JVVn82"
      },
      "source": [
        "Despues de `featureNormalize` la funcion es provada, se añade el temino de interseccion a `X_norm`:"
      ]
    },
    {
      "cell_type": "code",
      "execution_count": 31,
      "metadata": {
        "id": "qXpGaaD0Vn83"
      },
      "outputs": [],
      "source": [
        "# Añade el termino de interseccion a X\n",
        "# (Columna de unos para X0)\n",
        "X = np.concatenate([np.ones((m, 1)), X_norm], axis=1)"
      ]
    },
    {
      "cell_type": "code",
      "execution_count": 32,
      "metadata": {
        "colab": {
          "base_uri": "https://localhost:8080/"
        },
        "id": "Pzz24OdaVn83",
        "outputId": "7910557f-c85a-4571-bdb5-1702324324f3"
      },
      "outputs": [
        {
          "name": "stdout",
          "output_type": "stream",
          "text": [
            "[[ 1.00000000e+00  2.01638818e+00  3.86383189e-01 ...  1.75623622e+00\n",
            "  -1.37565696e+00  3.63760361e+00]\n",
            " [ 1.00000000e+00  1.76175178e+00  4.32935380e-01 ...  1.83597060e+00\n",
            "  -1.37565696e+00  2.33799015e+00]\n",
            " [ 1.00000000e+00 -1.16656686e+00 -4.05004065e-01 ... -1.23380275e+00\n",
            "  -3.80684945e-01 -9.86602410e-01]\n",
            " ...\n",
            " [ 1.00000000e+00  4.88569761e-01  6.19144146e-01 ...  4.19472134e-02\n",
            "  -3.80684945e-01  1.01446066e-01]\n",
            " [ 1.00000000e+00  4.88569761e-01  3.86383189e-01 ...  2.08002711e-03\n",
            "   1.60925908e+00  4.03681753e-01]\n",
            " [ 1.00000000e+00  4.88569761e-01  1.50363578e+00 ... -7.76543455e-02\n",
            "   1.60925908e+00  6.15246735e-01]]\n"
          ]
        }
      ],
      "source": [
        "print(X)"
      ]
    },
    {
      "attachments": {},
      "cell_type": "markdown",
      "metadata": {
        "id": "V54HlIKAVn83"
      },
      "source": [
        "<a id=\"section5\"></a>\n",
        "### 2.2 Descenso por el gradiente\n",
        "\n",
        "En el ejemplo anterior se implemento el descenso por el gradiente para un problema de regresion univariable. La unica diferencia es que ahora existe una caracteristica adicional en la matriz $X$. La función de hipótesis y la regla de actualización del descenso del gradiente por lotes permanecen sin cambios.\n",
        "\n",
        "La implementacion de las funciones `computeCostMulti` y `gradientDescentMulti` son similares a la funcion de costo y función de descenso por el gradiente de la regresión lineal multiple es similar al de la regresion lineal multivariable. Es importante garantizar que el codigo soporte cualquier numero de caracteristicas y esten bien vectorizadas.\n",
        "\n",
        "Se puede utilizar `shape`, propiedad de los arrays `numpy`, para identificar cuantas caracteristicas estan consideradas en el dataset.\n",
        "\n",
        "<div class=\"alert alert-block alert-warning\">\n",
        "**Nota de implementación:** En el caso de multivariables, la función de costo puede se escrita considerando la forma vectorizada de la siguiente manera:\n",
        "\n",
        "$$ J(\\theta) = \\frac{1}{2m}(X\\theta - \\vec{y})^T(X\\theta - \\vec{y}) $$\n",
        "\n",
        "donde:\n",
        "\n",
        "$$ X = \\begin{pmatrix}\n",
        "          - (x^{(1)})^T - \\\\\n",
        "          - (x^{(2)})^T - \\\\\n",
        "          \\vdots \\\\\n",
        "          - (x^{(m)})^T - \\\\ \\\\\n",
        "        \\end{pmatrix} \\qquad \\mathbf{y} = \\begin{bmatrix} y^{(1)} \\\\ y^{(2)} \\\\ \\vdots \\\\ y^{(m)} \\\\\\end{bmatrix}$$\n",
        "\n",
        "La version vectorizada es eficiente cuando se trabaja con herramientas de calculo numericos computacional como `numpy`. \n",
        "</div>\n",
        "\n",
        "<a id=\"computeCostMulti\"></a>"
      ]
    },
    {
      "cell_type": "code",
      "execution_count": 33,
      "metadata": {
        "id": "R5xCTuCUVn83"
      },
      "outputs": [],
      "source": [
        "def computeCostMulti(X, y, theta):\n",
        "    # Inicializa algunos valores utiles\n",
        "    m = y.shape[0] # numero de ejemplos de entrenamiento\n",
        "    \n",
        "    J = 0\n",
        "    \n",
        "    h = np.dot(X, theta)\n",
        "    \n",
        "    J = (1/(2 * m)) * np.sum(np.square(np.dot(X, theta) - y))\n",
        "    \n",
        "    return J\n"
      ]
    },
    {
      "cell_type": "code",
      "execution_count": 34,
      "metadata": {
        "id": "1FbQyFHtVn83"
      },
      "outputs": [],
      "source": [
        "def gradientDescentMulti(X, y, theta, alpha, num_iters):\n",
        "    \n",
        "    # Inicializa algunos valores \n",
        "    m = y.shape[0] # numero de ejemplos de entrenamiento\n",
        "    \n",
        "    # realiza una copia de theta, el cual será acutalizada por el descenso por el gradiente\n",
        "    theta = theta.copy()\n",
        "    \n",
        "    J_history = []\n",
        "    \n",
        "    for i in range(num_iters):\n",
        "        theta = theta - (alpha / m) * (np.dot(X, theta) - y).dot(X)\n",
        "        J_history.append(computeCostMulti(X, y, theta))\n",
        "    \n",
        "    return theta, J_history"
      ]
    },
    {
      "attachments": {},
      "cell_type": "markdown",
      "metadata": {
        "id": "dJ2VxNfaVn83"
      },
      "source": [
        "#### 3.2.1 Seleccionando coheficientes de aprendizaje\n"
      ]
    },
    {
      "cell_type": "code",
      "execution_count": 35,
      "metadata": {
        "colab": {
          "base_uri": "https://localhost:8080/",
          "height": 486
        },
        "id": "K4gVCgsfVn84",
        "outputId": "e0b0bbbe-20ed-49fb-930d-70e354a4e2dd"
      },
      "outputs": [
        {
          "name": "stdout",
          "output_type": "stream",
          "text": [
            "theta calculado por el descenso por el gradiente: [592.02608696  55.26457182 -19.6653422  -57.1175072  -67.33399197\n",
            "  39.98627161 -27.79503142]\n",
            "Costo final del descenso por el gradiente: 42050.150\n"
          ]
        },
        {
          "data": {
            "image/png": "[encoded data removed]",
            "text/plain": [
              "<Figure size 640x480 with 1 Axes>"
            ]
          },
          "metadata": {},
          "output_type": "display_data"
        }
      ],
      "source": [
        "# Elegir algun valor para alpha (probar varias alternativas)\n",
        "alpha = 0.03 # alpha = 0.003\n",
        "num_iters = 11000\n",
        "\n",
        "# inicializa theta y ejecuta el descenso por el gradiente\n",
        "theta = np.zeros(7)\n",
        "theta, J_history = gradientDescentMulti(X, y, theta, alpha, num_iters)\n",
        "\n",
        "# Grafica la convergencia del costo\n",
        "pyplot.plot(np.arange(len(J_history)), J_history, lw=2)\n",
        "pyplot.xlabel('Numero de iteraciones')\n",
        "pyplot.ylabel('Costo J')\n",
        "\n",
        "# Muestra los resultados del descenso por el gradiente\n",
        "print('theta calculado por el descenso por el gradiente: {:s}'.format(str(theta)))\n",
        "print('Costo final del descenso por el gradiente: {:0.3f}'.format(J_history[-1]))   \n",
        "\n",
        "\n",
        "\n",
        "# print('El precio predecido para una casa de 1650 sq-ft y 3 dormitorios (usando el descenso por el gradiente): ${:.0f}'.format(price))"
      ]
    },
    {
      "cell_type": "code",
      "execution_count": 36,
      "metadata": {
        "id": "5Bqbn4VtVn84"
      },
      "outputs": [],
      "source": [
        "# Pueba con el 10% que queda de elementos para la esperanza de vida como Y \n",
        "\n",
        "#lee el los valores del archivo csv\n",
        "df = pd.read_csv('Cars2023.csv')\n",
        "#Omite la parte de los encabezados\n",
        "data = df.values\n",
        "\n",
        "amount_rows = data.shape[0]\n",
        "test_rows= int(round(amount_rows * 0.05))\n",
        "X = data[test_rows:, :6]\n",
        "Life_Expectancy_data= data[test_rows:, 6]\n",
        "\n",
        "X_norm, mu, sigma = featureNormalize(X)\n",
        "X_final = np.concatenate([np.ones((m, 1)), X_norm], axis=1)\n",
        "Life_Expectancy = np.dot(X_final, theta)  \n",
        "\n"
      ]
    },
    {
      "cell_type": "code",
      "execution_count": 37,
      "metadata": {
        "colab": {
          "base_uri": "https://localhost:8080/"
        },
        "id": "YiFRyR0DVn84",
        "outputId": "8cb0c7ec-163b-423d-e803-e3212fc13664"
      },
      "outputs": [
        {
          "name": "stdout",
          "output_type": "stream",
          "text": [
            "Ejemplo 1 - Predicción: 572.408819729039 - Valor real: 200.0\n",
            "Ejemplo 2 - Predicción: 652.9881818334576 - Valor real: 990.0\n",
            "Ejemplo 3 - Predicción: 585.2817097665994 - Valor real: 900.0\n",
            "Ejemplo 4 - Predicción: 580.0703625381705 - Valor real: 300.0\n",
            "Ejemplo 5 - Predicción: 657.0402778329852 - Valor real: 990.0\n",
            "Ejemplo 6 - Predicción: 609.0462280192195 - Valor real: 490.0\n",
            "Ejemplo 7 - Predicción: 547.3744377751585 - Valor real: 990.0\n",
            "Ejemplo 8 - Predicción: 600.1110334596239 - Valor real: 990.0\n",
            "Ejemplo 9 - Predicción: 591.1505557157961 - Valor real: 490.0\n",
            "Ejemplo 10 - Predicción: 583.2124005700415 - Valor real: 335.0\n",
            "Ejemplo 11 - Predicción: 537.7123489748792 - Valor real: 519.0\n",
            "Ejemplo 12 - Predicción: 527.0129042365386 - Valor real: 500.0\n"
          ]
        }
      ],
      "source": [
        "# impresion de los datos predecidos y los reales\n",
        "for i in range(test_rows):\n",
        "    print(\"Ejemplo\", i+1, \"- Predicción:\", Life_Expectancy[i], \"- Valor real:\", Life_Expectancy_data[i])\n"
      ]
    },
    {
      "attachments": {},
      "cell_type": "markdown",
      "metadata": {
        "id": "Tq1EPGUHVn84"
      },
      "source": [
        "<a id=\"section7\"></a>\n",
        "### 2.3 Ecuacion de la Normal\n",
        "\n",
        "Una manera de calcular rapidamente el modelo de una regresion lineal es:\n",
        "\n",
        "$$ \\theta = \\left( X^T X\\right)^{-1} X^T\\vec{y}$$\n",
        "\n",
        "Utilizando esta formula no requiere que se escale ninguna caracteristica, y se obtendra una solucion exacta con un solo calculo: no hay “bucles de convergencia” como en el descenso por el gradiente. \n",
        "\n",
        "Primero se recargan los datos para garantizar que las variables no esten modificadas. Recordar que no es necesario escalar las caracteristicas, se debe agregar la columna de unos a la matriz $X$ para tener el termino de intersección($\\theta_0$). "
      ]
    },
    {
      "cell_type": "code",
      "execution_count": 38,
      "metadata": {
        "id": "5UE0T8ENVn84"
      },
      "outputs": [],
      "source": [
        "# Total de tados en el dataset 2.864 rows.\n",
        "# 2.577 rows para entrenamiento (90%)\n",
        "# 287 rows para test (10%) (el test se realiza al final del notebook)\n",
        "\n",
        "#lee el los valores del archivo csv\n",
        "df = pd.read_csv('Cars2023.csv')\n",
        "#Omite la parte de los encabezados\n",
        "data = df.values\n",
        "\n",
        "amount_rows = data.shape[0]\n",
        "# 90% de los datos para entrenamiento\n",
        "train_rows= int(round(amount_rows * 0.95))\n",
        "X = data[:train_rows, :6]\n",
        "y = data[:train_rows, 6]\n",
        "m = y.size\n",
        "\n",
        "X, mu, sigma = featureNormalize(X)\n",
        "X = np.concatenate([np.ones((m, 1)), X], axis=1)"
      ]
    },
    {
      "cell_type": "code",
      "execution_count": 39,
      "metadata": {
        "id": "JQrs-6cGVn84"
      },
      "outputs": [],
      "source": [
        "def normalEqn(X, y):\n",
        "  \n",
        "    theta = np.zeros(X.shape[1])\n",
        "    \n",
        "    theta = np.dot(np.dot(np.linalg.inv(np.dot(X.T,X)),X.T),y)\n",
        "    \n",
        "    return theta"
      ]
    },
    {
      "cell_type": "code",
      "execution_count": 40,
      "metadata": {
        "colab": {
          "base_uri": "https://localhost:8080/"
        },
        "id": "d0OzpOyyVn84",
        "outputId": "d6bf15e9-8309-4b0e-cc92-ee46ce5248f9"
      },
      "outputs": [
        {
          "name": "stdout",
          "output_type": "stream",
          "text": [
            "Theta calculado a partir de la ecuación de la normal: [592.02608696  55.26457182 -19.6653422  -57.1175072  -67.33399197\n",
            "  39.98627161 -27.79503142]\n"
          ]
        }
      ],
      "source": [
        "# Calcula los parametros con la ecuación de la normal\n",
        "theta = normalEqn(X, y)\n",
        "\n",
        "# Muestra los resultados optenidos a partir de la aplicación de la ecuación de la normal\n",
        "print('Theta calculado a partir de la ecuación de la normal: {:s}'.format(str(theta)))\n",
        "\n",
        "# Estimar el precio para una casa de superficie de 1650 sq-ft y tres dormitorios\n"
      ]
    },
    {
      "cell_type": "code",
      "execution_count": 41,
      "metadata": {
        "id": "5x0e9E-cllqH"
      },
      "outputs": [],
      "source": [
        "#lee el los valores del archivo csv\n",
        "df = pd.read_csv('Cars2023.csv')\n",
        "#Omite la parte de los encabezados\n",
        "data = df.values\n",
        "\n",
        "amount_rows = data.shape[0]\n",
        "test_rows= int(round(amount_rows * 0.05))\n",
        "X = data[test_rows:, :6]\n",
        "Life_Expectancy_data= data[test_rows:, 6]\n",
        "\n",
        "\n",
        "X_norm, mu, sigma = featureNormalize(X)\n",
        "X_final = np.concatenate([np.ones((m, 1)), X_norm], axis=1)\n",
        "Life_Expectancy = np.dot(X_final, theta)  "
      ]
    },
    {
      "cell_type": "code",
      "execution_count": 42,
      "metadata": {
        "colab": {
          "base_uri": "https://localhost:8080/"
        },
        "id": "a5jAMSl2lv3-",
        "outputId": "282ad5a2-253b-429e-d052-96f93ea94fa0"
      },
      "outputs": [
        {
          "name": "stdout",
          "output_type": "stream",
          "text": [
            "Ejemplo 1 - Predicción: 572.4088197290401 - Valor real: 200.0\n",
            "Ejemplo 2 - Predicción: 652.9881818334592 - Valor real: 990.0\n",
            "Ejemplo 3 - Predicción: 585.2817097666012 - Valor real: 900.0\n",
            "Ejemplo 4 - Predicción: 580.0703625381724 - Valor real: 300.0\n",
            "Ejemplo 5 - Predicción: 657.0402778329866 - Valor real: 990.0\n",
            "Ejemplo 6 - Predicción: 609.0462280192216 - Valor real: 490.0\n",
            "Ejemplo 7 - Predicción: 547.3744377751608 - Valor real: 990.0\n",
            "Ejemplo 8 - Predicción: 600.111033459627 - Valor real: 990.0\n",
            "Ejemplo 9 - Predicción: 591.1505557157991 - Valor real: 490.0\n",
            "Ejemplo 10 - Predicción: 583.2124005700434 - Valor real: 335.0\n",
            "Ejemplo 11 - Predicción: 537.7123489748825 - Valor real: 519.0\n",
            "Ejemplo 12 - Predicción: 527.0129042365398 - Valor real: 500.0\n"
          ]
        }
      ],
      "source": [
        "# impresion de los datos predecidos y los reales\n",
        "for i in range(test_rows):\n",
        "    print(\"Ejemplo\", i+1, \"- Predicción:\", Life_Expectancy[i], \"- Valor real:\", Life_Expectancy_data[i])"
      ]
    }
  ],
  "metadata": {
    "colab": {
      "provenance": []
    },
    "kernelspec": {
      "display_name": "Python 3",
      "language": "python",
      "name": "python3"
    },
    "language_info": {
      "codemirror_mode": {
        "name": "ipython",
        "version": 3
      },
      "file_extension": ".py",
      "mimetype": "text/x-python",
      "name": "python",
      "nbconvert_exporter": "python",
      "pygments_lexer": "ipython3",
      "version": "3.10.8"
    }
  },
  "nbformat": 4,
  "nbformat_minor": 0
}
